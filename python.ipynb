{
  "cells": [
    {
      "cell_type": "code",
      "execution_count": null,
      "metadata": {
        "colab": {
          "base_uri": "https://localhost:8080/"
        },
        "id": "IJXXwjITOpoT",
        "outputId": "49ce61d2-418b-4d43-f1ad-8cd7e2e6e1c6"
      },
      "outputs": [
        {
          "name": "stdout",
          "output_type": "stream",
          "text": [
            "The Zen of Python, by Tim Peters\n",
            "\n",
            "Beautiful is better than ugly.\n",
            "Explicit is better than implicit.\n",
            "Simple is better than complex.\n",
            "Complex is better than complicated.\n",
            "Flat is better than nested.\n",
            "Sparse is better than dense.\n",
            "Readability counts.\n",
            "Special cases aren't special enough to break the rules.\n",
            "Although practicality beats purity.\n",
            "Errors should never pass silently.\n",
            "Unless explicitly silenced.\n",
            "In the face of ambiguity, refuse the temptation to guess.\n",
            "There should be one-- and preferably only one --obvious way to do it.\n",
            "Although that way may not be obvious at first unless you're Dutch.\n",
            "Now is better than never.\n",
            "Although never is often better than *right* now.\n",
            "If the implementation is hard to explain, it's a bad idea.\n",
            "If the implementation is easy to explain, it may be a good idea.\n",
            "Namespaces are one honking great idea -- let's do more of those!\n"
          ]
        }
      ],
      "source": [
        "import this"
      ]
    },
    {
      "cell_type": "code",
      "execution_count": null,
      "metadata": {
        "id": "dVTKg4EIPOPB"
      },
      "outputs": [],
      "source": [
        "x = 1\n",
        "\n",
        "def suma(x):\n",
        "    x = x + 1\n",
        "    return x\n",
        "\n",
        "suma(6)\n",
        "\n",
        "def resta(x):\n",
        "    x = x - 1\n",
        "    if x == 3:\n",
        "        return 5\n",
        "    if x == 4:\n",
        "        x = x - 1\n",
        "        return x\n",
        "    return x"
      ]
    },
    {
      "cell_type": "code",
      "execution_count": null,
      "metadata": {
        "colab": {
          "base_uri": "https://localhost:8080/"
        },
        "id": "BOSH3N2-P6sG",
        "outputId": "27fb5e6e-cdd6-46aa-b38c-77f6ee3ef29a"
      },
      "outputs": [
        {
          "name": "stdout",
          "output_type": "stream",
          "text": [
            "word\n"
          ]
        }
      ],
      "source": [
        "x = 1\n",
        "y = 2\n",
        "z = \"word\"\n",
        "w = False\n",
        "y = 1.1\n",
        "\n",
        "print(z)"
      ]
    },
    {
      "cell_type": "code",
      "execution_count": null,
      "metadata": {
        "colab": {
          "base_uri": "https://localhost:8080/"
        },
        "id": "NQccB_ExQM9t",
        "outputId": "73ab1e00-2b05-4d8e-d9c4-56e5206bbe43"
      },
      "outputs": [
        {
          "name": "stdout",
          "output_type": "stream",
          "text": [
            "[2, 3, 4, 5, 6, 10]\n",
            "[2, 3, 4, 5, 6, 10, 8]\n",
            "[2, 3, 4, 5, 6, 8, 10]\n",
            "[1, 2, 3, 7, 8, 9]\n",
            "[{'id': 1, 'name': 'cristhian', 'dev': 'python'}, {'id': 2, 'name': 'cristhian', 'dev': 'python'}, {'id': 3, 'name': 'cristhian', 'dev': 'python'}]\n",
            "{'id': 1, 'name': 'cristhian', 'dev': 'python'}\n",
            "python\n",
            "{'id': 2, 'name': 'cristhian', 'dev': 'python'}\n",
            "python\n",
            "{'id': 3, 'name': 'cristhian', 'dev': 'python'}\n",
            "python\n"
          ]
        }
      ],
      "source": [
        "data = [2, 3, 4, 5, 6, 10] # 0,1,2, 3,4,5\n",
        "print(data)\n",
        "\n",
        "data.append(8)\n",
        "print(data)\n",
        "\n",
        "data.sort()\n",
        "print(data)\n",
        "\n",
        "data[1]\n",
        "\n",
        "data_1 = [1, 2, 3]\n",
        "data_2 = [7, 8, 9]\n",
        "data_1.extend(data_2)\n",
        "print(data_1)\n",
        "\n",
        "data = {}\n",
        "data = {\n",
        "    \"id\": 1,\n",
        "    \"name\": \"cristhian\",\n",
        "    \"dev\": \"python\"\n",
        "}\n",
        "\n",
        "data = [{\n",
        "    \"id\": 1,\n",
        "    \"name\": \"cristhian\",\n",
        "    \"dev\": \"python\"\n",
        "}, {\n",
        "    \"id\": 2,\n",
        "    \"name\": \"cristhian\",\n",
        "    \"dev\": \"python\"\n",
        "}, {\n",
        "    \"id\": 3,\n",
        "    \"name\": \"cristhian\",\n",
        "    \"dev\": \"python\"\n",
        "}]\n",
        "print(data)\n",
        "\n",
        "for x in data:\n",
        "    print(x)\n",
        "    print(x[\"dev\"])"
      ]
    },
    {
      "cell_type": "code",
      "execution_count": null,
      "metadata": {
        "colab": {
          "base_uri": "https://localhost:8080/"
        },
        "id": "J5bOWoDoVpe9",
        "outputId": "d8f79dd1-1dd8-4dcc-f941-c7840f2502b6"
      },
      "outputs": [
        {
          "name": "stdout",
          "output_type": "stream",
          "text": [
            "2.75\n",
            "2\n",
            "3\n",
            "49\n",
            "81\n",
            "True\n",
            "True\n"
          ]
        }
      ],
      "source": [
        "print(11 / 4)\n",
        "print(11 // 4)\n",
        "print(11 % 4)\n",
        "print(7 ** 2)\n",
        "print( ( (1+2) * (2+1)  ) ** 2 )\n",
        "print(1 == True)\n",
        "print(0 == False)"
      ]
    },
    {
      "cell_type": "code",
      "execution_count": null,
      "metadata": {
        "colab": {
          "base_uri": "https://localhost:8080/"
        },
        "id": "XTDxwNpMW5dV",
        "outputId": "84a36dc3-eab0-4222-a696-6c4cce36a11e"
      },
      "outputs": [
        {
          "name": "stdout",
          "output_type": "stream",
          "text": [
            "data is more than 1\n"
          ]
        }
      ],
      "source": [
        "data = 6\n",
        "\n",
        "if data == 5:\n",
        "    print(\"data is equal to 5\")\n",
        "elif data >= 1:\n",
        "    print(\"data is more than 1\")\n",
        "else:\n",
        "    print(\"data is not in range\")"
      ]
    },
    {
      "cell_type": "code",
      "execution_count": null,
      "metadata": {
        "colab": {
          "base_uri": "https://localhost:8080/"
        },
        "id": "4NuhbpJiXruq",
        "outputId": "98a6bd6d-72e9-44b7-e63b-a85d5208fcde"
      },
      "outputs": [
        {
          "name": "stdout",
          "output_type": "stream",
          "text": [
            "mi nombre es cristhian y mi profesión es 35\n",
            "mi nombre es cristhian y mi profesión es 35\n",
            "mi nombre es cristhian y mi profesión es 35\n",
            "cristhian uses python\n",
            "cristhian uses python\n",
            "cristhian uses python\n"
          ]
        }
      ],
      "source": [
        "data_1 = \"cristhian\"\n",
        "data_2 = 35\n",
        "print(\"mi nombre es {} y mi profesión es {}\".format(data_1, data_2))\n",
        "print(\"mi nombre es {0} y mi profesión es {1}\".format(data_1, data_2))\n",
        "print(\"mi nombre es {name} y mi profesión es {profession}\".format(name=data_1, profession=data_2))\n",
        "\n",
        "data = [{\n",
        "    \"id\": 1,\n",
        "    \"name\": \"cristhian\",\n",
        "    \"dev\": \"python\"\n",
        "}, {\n",
        "    \"id\": 2,\n",
        "    \"name\": \"cristhian\",\n",
        "    \"dev\": \"python\"\n",
        "}, {\n",
        "    \"id\": 3,\n",
        "    \"name\": \"cristhian\",\n",
        "    \"dev\": \"python\"\n",
        "}]\n",
        "\n",
        "for x in data:\n",
        "    print(\"{} uses {}\".format(x[\"name\"], x[\"dev\"]))"
      ]
    },
    {
      "cell_type": "code",
      "execution_count": null,
      "metadata": {
        "colab": {
          "base_uri": "https://localhost:8080/"
        },
        "id": "kPORYmMRYy7y",
        "outputId": "95e7eac3-ca52-469f-ffe9-81f2fb66b421"
      },
      "outputs": [
        {
          "name": "stdout",
          "output_type": "stream",
          "text": [
            "helloworldhelloworldhelloworld\n"
          ]
        }
      ],
      "source": [
        "data = \"helloworld\"\n",
        "print(data * 3)"
      ]
    },
    {
      "cell_type": "code",
      "execution_count": null,
      "metadata": {
        "colab": {
          "base_uri": "https://localhost:8080/"
        },
        "id": "6-r_3dmuWpmm",
        "outputId": "00755657-1d76-44c1-92a4-a508508e197f"
      },
      "outputs": [
        {
          "name": "stdout",
          "output_type": "stream",
          "text": [
            "h\n",
            "5\n",
            "llo\n",
            "he\n",
            "ll\n",
            "o\n"
          ]
        }
      ],
      "source": [
        "data = \"hello\"\n",
        "print(data[0])\n",
        "print(len(data))\n",
        "print(data[2:])\n",
        "print(data[:2])\n",
        "print(data[2:4])\n",
        "print(data[-1])"
      ]
    },
    {
      "cell_type": "code",
      "execution_count": null,
      "metadata": {
        "colab": {
          "base_uri": "https://localhost:8080/"
        },
        "id": "bSw9C9oIZglV",
        "outputId": "4fc53bcc-973e-4394-f981-b957ac28d008"
      },
      "outputs": [
        {
          "name": "stdout",
          "output_type": "stream",
          "text": [
            "72\n"
          ]
        }
      ],
      "source": [
        "def multiply(x, y):\n",
        "    return x * y\n",
        "\n",
        "a = multiply(3, 2)\n",
        "b = multiply(4, 3)\n",
        "\n",
        "print(multiply(a, b))"
      ]
    },
    {
      "cell_type": "code",
      "execution_count": null,
      "metadata": {
        "colab": {
          "base_uri": "https://localhost:8080/"
        },
        "id": "iV0ROzoFZ2a3",
        "outputId": "336da32e-3ff9-422a-e72f-1b019f277c01"
      },
      "outputs": [
        {
          "name": "stdout",
          "output_type": "stream",
          "text": [
            "hellloworld\n"
          ]
        }
      ],
      "source": [
        "# teniendo la siguiente palabra\n",
        "# porfavor imprime en una misma linea los 2 primero y 2 ultimos caracteres\n",
        "\n",
        "word = \"helloworld\"\n",
        "\n",
        "print(word[:3] + word[2:])"
      ]
    },
    {
      "cell_type": "code",
      "execution_count": 1,
      "metadata": {},
      "outputs": [
        {
          "name": "stdout",
          "output_type": "stream",
          "text": [
            "holaholaholahola\n"
          ]
        }
      ],
      "source": [
        "word=\"palabra\"\n",
        "\n",
        "#Crea una función que multiplique lo que envies\n",
        "# por ejemplo multiply_word(texto,numero) => \"hola\",3 => \"holaholahola\"\n",
        "\n",
        "def multiply_word(word, veces):\n",
        "    return word * veces\n",
        "\n",
        "# Ejemplo\n",
        "resultado = multiply_word(\"hola\", 4)\n",
        "print(resultado)"
      ]
    },
    {
      "cell_type": "code",
      "execution_count": 2,
      "metadata": {},
      "outputs": [
        {
          "name": "stdout",
          "output_type": "stream",
          "text": [
            "1\n",
            "2\n",
            "Fizz\n",
            "4\n",
            "Buzz\n",
            "Fizz\n",
            "7\n",
            "8\n",
            "Fizz\n",
            "Buzz\n",
            "11\n",
            "Fizz\n",
            "13\n",
            "14\n",
            "FizzBuzz\n"
          ]
        }
      ],
      "source": [
        "# fizzbuzz\n",
        "# haz un for de 1 hasta n\n",
        "# si es divisible por 3 y 5 imprime fizzbuzz\n",
        "# si es divisible por 3 imprime fizz\n",
        "# si es divisible por 5 imprime buzz\n",
        "# y para todo lo demas imprime el valor\n",
        "\n",
        "n = 15\n",
        "\n",
        "for x in range(1, n + 1):\n",
        "    if x % 3 == 0 and x % 5 == 0:\n",
        "        print(\"FizzBuzz\")\n",
        "    elif x % 3 == 0:\n",
        "        print(\"Fizz\")\n",
        "    elif x % 5 == 0:\n",
        "        print(\"Buzz\")\n",
        "    else:\n",
        "        print(x)\n",
        "\n",
        "# Input: n = 15\n",
        "# Output: \"1\",\"2\",\"Fizz\",\"4\",\"Buzz\",\"Fizz\",\"7\",\"8\",\"Fizz\",\"Buzz\",\"11\",\"Fizz\",\"13\",\"14\",\"FizzBuzz\""
      ]
    }
  ],
  "metadata": {
    "colab": {
      "provenance": []
    },
    "kernelspec": {
      "display_name": "Python 3",
      "name": "python3"
    },
    "language_info": {
      "codemirror_mode": {
        "name": "ipython",
        "version": 3
      },
      "file_extension": ".py",
      "mimetype": "text/x-python",
      "name": "python",
      "nbconvert_exporter": "python",
      "pygments_lexer": "ipython3",
      "version": "3.10.0"
    }
  },
  "nbformat": 4,
  "nbformat_minor": 0
}
