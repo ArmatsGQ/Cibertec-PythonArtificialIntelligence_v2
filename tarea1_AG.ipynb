{
 "cells": [
  {
   "cell_type": "code",
   "execution_count": 7,
   "metadata": {},
   "outputs": [],
   "source": [
    "def is_isomorphic(s, t):\n",
    "    if len(s) != len(t):\n",
    "        return False\n",
    "\n",
    "    s_to_t_mapping = {}\n",
    "    t_to_s_mapping = {}\n",
    "\n",
    "    for char_s, char_t in zip(s, t):\n",
    "        if char_s in s_to_t_mapping:\n",
    "            if s_to_t_mapping[char_s] != char_t:\n",
    "                return False\n",
    "        else:\n",
    "            s_to_t_mapping[char_s] = char_t\n",
    "\n",
    "        if char_t in t_to_s_mapping:\n",
    "            if t_to_s_mapping[char_t] != char_s:\n",
    "                return False\n",
    "        else:\n",
    "            t_to_s_mapping[char_t] = char_s\n",
    "\n",
    "    return True"
   ]
  },
  {
   "cell_type": "code",
   "execution_count": 8,
   "metadata": {},
   "outputs": [
    {
     "name": "stdout",
     "output_type": "stream",
     "text": [
      "True\n",
      "False\n",
      "True\n"
     ]
    }
   ],
   "source": [
    "print(is_isomorphic(s=\"egg\",t=\"add\"))\n",
    "print(is_isomorphic(s=\"foo\",t=\"bar\"))\n",
    "print(is_isomorphic(s=\"paper\",t=\"title\"))"
   ]
  }
 ],
 "metadata": {
  "kernelspec": {
   "display_name": ".venv",
   "language": "python",
   "name": "python3"
  },
  "language_info": {
   "codemirror_mode": {
    "name": "ipython",
    "version": 3
   },
   "file_extension": ".py",
   "mimetype": "text/x-python",
   "name": "python",
   "nbconvert_exporter": "python",
   "pygments_lexer": "ipython3",
   "version": "3.10.0"
  }
 },
 "nbformat": 4,
 "nbformat_minor": 2
}
