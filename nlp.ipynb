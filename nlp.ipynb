{
  "cells": [
    {
      "cell_type": "code",
      "execution_count": 1,
      "metadata": {
        "colab": {
          "base_uri": "https://localhost:8080/"
        },
        "id": "-qATQycGVB_t",
        "outputId": "7a071c9a-7d1f-48cf-e3e6-0c388e12b2fc"
      },
      "outputs": [
        {
          "name": "stdout",
          "output_type": "stream",
          "text": [
            "Collecting textblob\n",
            "  Downloading textblob-0.18.0.post0-py3-none-any.whl.metadata (4.5 kB)\n",
            "Collecting nltk>=3.8 (from textblob)\n",
            "  Downloading nltk-3.8.1-py3-none-any.whl.metadata (2.8 kB)\n",
            "Collecting click (from nltk>=3.8->textblob)\n",
            "  Downloading click-8.1.7-py3-none-any.whl.metadata (3.0 kB)\n",
            "Requirement already satisfied: joblib in c:\\users\\armats.giarnelly\\onedrive - komatsu ltd\\03. scripts_python\\.venv\\lib\\site-packages (from nltk>=3.8->textblob) (1.4.2)\n",
            "Collecting regex>=2021.8.3 (from nltk>=3.8->textblob)\n",
            "  Downloading regex-2024.5.15-cp310-cp310-win_amd64.whl.metadata (41 kB)\n",
            "     ---------------------------------------- 0.0/42.0 kB ? eta -:--:--\n",
            "     ------------------- -------------------- 20.5/42.0 kB ? eta -:--:--\n",
            "     ------------------- -------------------- 20.5/42.0 kB ? eta -:--:--\n",
            "     ------------------- -------------------- 20.5/42.0 kB ? eta -:--:--\n",
            "     -------------------------------------  41.0/42.0 kB 164.3 kB/s eta 0:00:01\n",
            "     -------------------------------------- 42.0/42.0 kB 156.3 kB/s eta 0:00:00\n",
            "Requirement already satisfied: tqdm in c:\\users\\armats.giarnelly\\onedrive - komatsu ltd\\03. scripts_python\\.venv\\lib\\site-packages (from nltk>=3.8->textblob) (4.66.4)\n",
            "Requirement already satisfied: colorama in c:\\users\\armats.giarnelly\\onedrive - komatsu ltd\\03. scripts_python\\.venv\\lib\\site-packages (from click->nltk>=3.8->textblob) (0.4.6)\n",
            "Downloading textblob-0.18.0.post0-py3-none-any.whl (626 kB)\n",
            "   ---------------------------------------- 0.0/626.3 kB ? eta -:--:--\n",
            "   -- ------------------------------------- 41.0/626.3 kB 2.0 MB/s eta 0:00:01\n",
            "   -- ------------------------------------- 41.0/626.3 kB 2.0 MB/s eta 0:00:01\n",
            "   -- ------------------------------------- 41.0/626.3 kB 2.0 MB/s eta 0:00:01\n",
            "   --- ----------------------------------- 61.4/626.3 kB 273.8 kB/s eta 0:00:03\n",
            "   ---------- --------------------------- 174.1/626.3 kB 807.1 kB/s eta 0:00:01\n",
            "   ---------- --------------------------- 174.1/626.3 kB 807.1 kB/s eta 0:00:01\n",
            "   ---------- --------------------------- 174.1/626.3 kB 807.1 kB/s eta 0:00:01\n",
            "   ---------- --------------------------- 174.1/626.3 kB 807.1 kB/s eta 0:00:01\n",
            "   ---------- --------------------------- 174.1/626.3 kB 807.1 kB/s eta 0:00:01\n",
            "   ---------- --------------------------- 174.1/626.3 kB 807.1 kB/s eta 0:00:01\n",
            "   ---------- --------------------------- 174.1/626.3 kB 807.1 kB/s eta 0:00:01\n",
            "   ---------- --------------------------- 174.1/626.3 kB 807.1 kB/s eta 0:00:01\n",
            "   ------------------ ------------------- 307.2/626.3 kB 500.8 kB/s eta 0:00:01\n",
            "   ------------------ ------------------- 307.2/626.3 kB 500.8 kB/s eta 0:00:01\n",
            "   ------------------ ------------------- 307.2/626.3 kB 500.8 kB/s eta 0:00:01\n",
            "   ------------------ ------------------- 307.2/626.3 kB 500.8 kB/s eta 0:00:01\n",
            "   ------------------ ------------------- 307.2/626.3 kB 500.8 kB/s eta 0:00:01\n",
            "   ------------------ ------------------- 307.2/626.3 kB 500.8 kB/s eta 0:00:01\n",
            "   ------------------ ------------------- 307.2/626.3 kB 500.8 kB/s eta 0:00:01\n",
            "   ------------------ ------------------- 307.2/626.3 kB 500.8 kB/s eta 0:00:01\n",
            "   ------------------ ------------------- 307.2/626.3 kB 500.8 kB/s eta 0:00:01\n",
            "   ------------------ ------------------- 307.2/626.3 kB 500.8 kB/s eta 0:00:01\n",
            "   ------------------ ------------------- 307.2/626.3 kB 500.8 kB/s eta 0:00:01\n",
            "   ------------------ ------------------- 307.2/626.3 kB 500.8 kB/s eta 0:00:01\n",
            "   ------------------- ------------------ 317.4/626.3 kB 273.1 kB/s eta 0:00:02\n",
            "   ------------------- ------------------ 317.4/626.3 kB 273.1 kB/s eta 0:00:02\n",
            "   ------------------- ------------------ 317.4/626.3 kB 273.1 kB/s eta 0:00:02\n",
            "   ------------------- ------------------ 317.4/626.3 kB 273.1 kB/s eta 0:00:02\n",
            "   ------------------- ------------------ 317.4/626.3 kB 273.1 kB/s eta 0:00:02\n",
            "   ------------------- ------------------ 317.4/626.3 kB 273.1 kB/s eta 0:00:02\n",
            "   ------------------- ------------------ 317.4/626.3 kB 273.1 kB/s eta 0:00:02\n",
            "   ------------------- ------------------ 317.4/626.3 kB 273.1 kB/s eta 0:00:02\n",
            "   --------------------- ---------------- 358.4/626.3 kB 232.1 kB/s eta 0:00:02\n",
            "   --------------------- ---------------- 358.4/626.3 kB 232.1 kB/s eta 0:00:02\n",
            "   --------------------- ---------------- 358.4/626.3 kB 232.1 kB/s eta 0:00:02\n",
            "   --------------------- ---------------- 358.4/626.3 kB 232.1 kB/s eta 0:00:02\n",
            "   ----------------------- -------------- 389.1/626.3 kB 226.7 kB/s eta 0:00:02\n",
            "   ----------------------- -------------- 389.1/626.3 kB 226.7 kB/s eta 0:00:02\n",
            "   ----------------------- -------------- 389.1/626.3 kB 226.7 kB/s eta 0:00:02\n",
            "   ----------------------- -------------- 389.1/626.3 kB 226.7 kB/s eta 0:00:02\n",
            "   --------------------------- ---------- 450.6/626.3 kB 236.9 kB/s eta 0:00:01\n",
            "   --------------------------- ---------- 450.6/626.3 kB 236.9 kB/s eta 0:00:01\n",
            "   --------------------------- ---------- 450.6/626.3 kB 236.9 kB/s eta 0:00:01\n",
            "   --------------------------- ---------- 450.6/626.3 kB 236.9 kB/s eta 0:00:01\n",
            "   -------------------------------- ----- 532.5/626.3 kB 255.2 kB/s eta 0:00:01\n",
            "   -------------------------------- ----- 532.5/626.3 kB 255.2 kB/s eta 0:00:01\n",
            "   -------------------------------- ----- 532.5/626.3 kB 255.2 kB/s eta 0:00:01\n",
            "   -------------------------------- ----- 532.5/626.3 kB 255.2 kB/s eta 0:00:01\n",
            "   ------------------------------------ - 604.2/626.3 kB 265.9 kB/s eta 0:00:01\n",
            "   ------------------------------------ - 604.2/626.3 kB 265.9 kB/s eta 0:00:01\n",
            "   ------------------------------------ - 604.2/626.3 kB 265.9 kB/s eta 0:00:01\n",
            "   ------------------------------------ - 604.2/626.3 kB 265.9 kB/s eta 0:00:01\n",
            "   -------------------------------------- 626.3/626.3 kB 256.1 kB/s eta 0:00:00\n",
            "Downloading nltk-3.8.1-py3-none-any.whl (1.5 MB)\n",
            "   ---------------------------------------- 0.0/1.5 MB ? eta -:--:--\n",
            "   - -------------------------------------- 0.1/1.5 MB ? eta -:--:--\n",
            "   - -------------------------------------- 0.1/1.5 MB ? eta -:--:--\n",
            "   - -------------------------------------- 0.1/1.5 MB ? eta -:--:--\n",
            "   - -------------------------------------- 0.1/1.5 MB ? eta -:--:--\n",
            "   --- ------------------------------------ 0.1/1.5 MB 711.9 kB/s eta 0:00:02\n",
            "   --- ------------------------------------ 0.1/1.5 MB 711.9 kB/s eta 0:00:02\n",
            "   --- ------------------------------------ 0.1/1.5 MB 711.9 kB/s eta 0:00:02\n",
            "   --- ------------------------------------ 0.1/1.5 MB 711.9 kB/s eta 0:00:02\n",
            "   ----- ---------------------------------- 0.2/1.5 MB 550.0 kB/s eta 0:00:03\n",
            "   ----- ---------------------------------- 0.2/1.5 MB 550.0 kB/s eta 0:00:03\n",
            "   ----- ---------------------------------- 0.2/1.5 MB 550.0 kB/s eta 0:00:03\n",
            "   ----- ---------------------------------- 0.2/1.5 MB 550.0 kB/s eta 0:00:03\n",
            "   -------- ------------------------------- 0.3/1.5 MB 513.8 kB/s eta 0:00:03\n",
            "   -------- ------------------------------- 0.3/1.5 MB 513.8 kB/s eta 0:00:03\n",
            "   -------- ------------------------------- 0.3/1.5 MB 513.8 kB/s eta 0:00:03\n",
            "   -------- ------------------------------- 0.3/1.5 MB 427.3 kB/s eta 0:00:03\n",
            "   ---------- ----------------------------- 0.4/1.5 MB 491.5 kB/s eta 0:00:03\n",
            "   ---------- ----------------------------- 0.4/1.5 MB 491.5 kB/s eta 0:00:03\n",
            "   ---------- ----------------------------- 0.4/1.5 MB 491.5 kB/s eta 0:00:03\n",
            "   ---------- ----------------------------- 0.4/1.5 MB 436.7 kB/s eta 0:00:03\n",
            "   ------------ --------------------------- 0.5/1.5 MB 502.7 kB/s eta 0:00:03\n",
            "   ------------ --------------------------- 0.5/1.5 MB 502.7 kB/s eta 0:00:03\n",
            "   ------------ --------------------------- 0.5/1.5 MB 502.7 kB/s eta 0:00:03\n",
            "   ------------- -------------------------- 0.5/1.5 MB 449.3 kB/s eta 0:00:03\n",
            "   -------------- ------------------------- 0.6/1.5 MB 498.6 kB/s eta 0:00:02\n",
            "   -------------- ------------------------- 0.6/1.5 MB 498.6 kB/s eta 0:00:02\n",
            "   -------------- ------------------------- 0.6/1.5 MB 498.6 kB/s eta 0:00:02\n",
            "   --------------- ------------------------ 0.6/1.5 MB 455.6 kB/s eta 0:00:03\n",
            "   ----------------- ---------------------- 0.7/1.5 MB 499.5 kB/s eta 0:00:02\n",
            "   ----------------- ---------------------- 0.7/1.5 MB 499.5 kB/s eta 0:00:02\n",
            "   ----------------- ---------------------- 0.7/1.5 MB 499.5 kB/s eta 0:00:02\n",
            "   ------------------ --------------------- 0.7/1.5 MB 460.1 kB/s eta 0:00:02\n",
            "   ------------------- -------------------- 0.7/1.5 MB 486.3 kB/s eta 0:00:02\n",
            "   ------------------- -------------------- 0.7/1.5 MB 486.3 kB/s eta 0:00:02\n",
            "   -------------------- ------------------- 0.8/1.5 MB 485.1 kB/s eta 0:00:02\n",
            "   -------------------- ------------------- 0.8/1.5 MB 485.1 kB/s eta 0:00:02\n",
            "   ---------------------- ----------------- 0.8/1.5 MB 497.7 kB/s eta 0:00:02\n",
            "   ---------------------- ----------------- 0.8/1.5 MB 497.7 kB/s eta 0:00:02\n",
            "   ---------------------- ----------------- 0.9/1.5 MB 485.7 kB/s eta 0:00:02\n",
            "   ---------------------- ----------------- 0.9/1.5 MB 485.7 kB/s eta 0:00:02\n",
            "   ------------------------- -------------- 1.0/1.5 MB 507.9 kB/s eta 0:00:02\n",
            "   ------------------------- -------------- 1.0/1.5 MB 507.9 kB/s eta 0:00:02\n",
            "   ------------------------- -------------- 1.0/1.5 MB 507.9 kB/s eta 0:00:02\n",
            "   ------------------------- -------------- 1.0/1.5 MB 507.9 kB/s eta 0:00:02\n",
            "   --------------------------- ------------ 1.1/1.5 MB 506.5 kB/s eta 0:00:01\n",
            "   --------------------------- ------------ 1.1/1.5 MB 506.5 kB/s eta 0:00:01\n",
            "   --------------------------- ------------ 1.1/1.5 MB 506.5 kB/s eta 0:00:01\n",
            "   --------------------------- ------------ 1.1/1.5 MB 506.5 kB/s eta 0:00:01\n",
            "   ------------------------------ --------- 1.2/1.5 MB 513.4 kB/s eta 0:00:01\n",
            "   ------------------------------ --------- 1.2/1.5 MB 513.4 kB/s eta 0:00:01\n",
            "   ------------------------------- -------- 1.2/1.5 MB 504.9 kB/s eta 0:00:01\n",
            "   ------------------------------- -------- 1.2/1.5 MB 504.9 kB/s eta 0:00:01\n",
            "   --------------------------------- ------ 1.3/1.5 MB 520.0 kB/s eta 0:00:01\n",
            "   --------------------------------- ------ 1.3/1.5 MB 520.0 kB/s eta 0:00:01\n",
            "   --------------------------------- ------ 1.3/1.5 MB 520.0 kB/s eta 0:00:01\n",
            "   --------------------------------- ------ 1.3/1.5 MB 520.0 kB/s eta 0:00:01\n",
            "   ------------------------------------ --- 1.4/1.5 MB 522.7 kB/s eta 0:00:01\n",
            "   ------------------------------------ --- 1.4/1.5 MB 522.7 kB/s eta 0:00:01\n",
            "   ------------------------------------ --- 1.4/1.5 MB 522.7 kB/s eta 0:00:01\n",
            "   ------------------------------------ --- 1.4/1.5 MB 522.7 kB/s eta 0:00:01\n",
            "   ---------------------------------------  1.5/1.5 MB 534.5 kB/s eta 0:00:01\n",
            "   ---------------------------------------- 1.5/1.5 MB 533.6 kB/s eta 0:00:00\n",
            "Downloading regex-2024.5.15-cp310-cp310-win_amd64.whl (268 kB)\n",
            "   ---------------------------------------- 0.0/269.0 kB ? eta -:--:--\n",
            "   --------------- ------------------------ 102.4/269.0 kB ? eta -:--:--\n",
            "   --------------- ------------------------ 102.4/269.0 kB ? eta -:--:--\n",
            "   --------------- ------------------------ 102.4/269.0 kB ? eta -:--:--\n",
            "   --------------- ------------------------ 102.4/269.0 kB ? eta -:--:--\n",
            "   --------------------------------- ------ 225.3/269.0 kB 1.1 MB/s eta 0:00:01\n",
            "   --------------------------------- ------ 225.3/269.0 kB 1.1 MB/s eta 0:00:01\n",
            "   --------------------------------- ------ 225.3/269.0 kB 1.1 MB/s eta 0:00:01\n",
            "   --------------------------------- ---- 235.5/269.0 kB 627.5 kB/s eta 0:00:01\n",
            "   -------------------------------------- 269.0/269.0 kB 690.0 kB/s eta 0:00:00\n",
            "Downloading click-8.1.7-py3-none-any.whl (97 kB)\n",
            "   ---------------------------------------- 0.0/97.9 kB ? eta -:--:--\n",
            "   ---------------------------------------- 97.9/97.9 kB 5.8 MB/s eta 0:00:00\n",
            "Installing collected packages: regex, click, nltk, textblob\n",
            "Successfully installed click-8.1.7 nltk-3.8.1 regex-2024.5.15 textblob-0.18.0.post0\n"
          ]
        },
        {
          "name": "stderr",
          "output_type": "stream",
          "text": [
            "\n",
            "[notice] A new release of pip is available: 24.0 -> 24.1.2\n",
            "[notice] To update, run: python.exe -m pip install --upgrade pip\n"
          ]
        },
        {
          "name": "stdout",
          "output_type": "stream",
          "text": [
            "Finished.\n"
          ]
        },
        {
          "name": "stderr",
          "output_type": "stream",
          "text": [
            "[nltk_data] Downloading package brown to\n",
            "[nltk_data]     C:\\Users\\armats.giarnelly\\AppData\\Roaming\\nltk_data...\n",
            "[nltk_data]   Unzipping corpora\\brown.zip.\n",
            "[nltk_data] Downloading package punkt to\n",
            "[nltk_data]     C:\\Users\\armats.giarnelly\\AppData\\Roaming\\nltk_data...\n",
            "[nltk_data]   Unzipping tokenizers\\punkt.zip.\n",
            "[nltk_data] Downloading package wordnet to\n",
            "[nltk_data]     C:\\Users\\armats.giarnelly\\AppData\\Roaming\\nltk_data...\n",
            "[nltk_data] Downloading package averaged_perceptron_tagger to\n",
            "[nltk_data]     C:\\Users\\armats.giarnelly\\AppData\\Roaming\\nltk_data...\n",
            "[nltk_data]   Unzipping taggers\\averaged_perceptron_tagger.zip.\n",
            "[nltk_data] Downloading package conll2000 to\n",
            "[nltk_data]     C:\\Users\\armats.giarnelly\\AppData\\Roaming\\nltk_data...\n",
            "[nltk_data]   Unzipping corpora\\conll2000.zip.\n",
            "[nltk_data] Downloading package movie_reviews to\n",
            "[nltk_data]     C:\\Users\\armats.giarnelly\\AppData\\Roaming\\nltk_data...\n",
            "[nltk_data]   Unzipping corpora\\movie_reviews.zip.\n"
          ]
        }
      ],
      "source": [
        "!pip install textblob\n",
        "!python -m textblob.download_corpora"
      ]
    },
    {
      "cell_type": "code",
      "execution_count": 2,
      "metadata": {
        "colab": {
          "base_uri": "https://localhost:8080/"
        },
        "id": "yYPJUlIiUn0I",
        "outputId": "8852753b-f78b-4019-cb2e-e5d9d0685947"
      },
      "outputs": [
        {
          "name": "stdout",
          "output_type": "stream",
          "text": [
            "[('The', 'DT'), ('titular', 'JJ'), ('threat', 'NN'), ('of', 'IN'), ('The', 'DT'), ('Blob', 'NNP'), ('has', 'VBZ'), ('always', 'RB'), ('struck', 'VBN'), ('me', 'PRP'), ('as', 'IN'), ('the', 'DT'), ('ultimate', 'JJ'), ('movie', 'NN'), ('monster', 'NN'), ('an', 'DT'), ('insatiably', 'RB'), ('hungry', 'JJ'), ('amoeba-like', 'JJ'), ('mass', 'NN'), ('able', 'JJ'), ('to', 'TO'), ('penetrate', 'VB'), ('virtually', 'RB'), ('any', 'DT'), ('safeguard', 'NN'), ('capable', 'JJ'), ('of', 'IN'), ('as', 'IN'), ('a', 'DT'), ('doomed', 'JJ'), ('doctor', 'NN'), ('chillingly', 'RB'), ('describes', 'VBZ'), ('it', 'PRP'), ('assimilating', 'VBG'), ('flesh', 'NN'), ('on', 'IN'), ('contact', 'NN'), ('Snide', 'JJ'), ('comparisons', 'NNS'), ('to', 'TO'), ('gelatin', 'VB'), ('be', 'VB'), ('damned', 'VBN'), ('it', 'PRP'), (\"'s\", 'VBZ'), ('a', 'DT'), ('concept', 'NN'), ('with', 'IN'), ('the', 'DT'), ('most', 'RBS'), ('devastating', 'JJ'), ('of', 'IN'), ('potential', 'JJ'), ('consequences', 'NNS'), ('not', 'RB'), ('unlike', 'IN'), ('the', 'DT'), ('grey', 'NN'), ('goo', 'NN'), ('scenario', 'NN'), ('proposed', 'VBN'), ('by', 'IN'), ('technological', 'JJ'), ('theorists', 'NNS'), ('fearful', 'NN'), ('of', 'IN'), ('artificial', 'JJ'), ('intelligence', 'NN'), ('run', 'NN'), ('rampant', 'NN')]\n",
            "['titular threat', 'blob', 'ultimate movie monster', 'amoeba-like mass', 'snide', 'potential consequences', 'grey goo scenario', 'technological theorists fearful', 'artificial intelligence run rampant']\n",
            "0.06000000000000001\n",
            "-0.34166666666666673\n",
            "I have good spelling!\n"
          ]
        }
      ],
      "source": [
        "from textblob import TextBlob\n",
        "\n",
        "text = \"\"\"\n",
        "The titular threat of The Blob has always struck me as the ultimate movie\n",
        "monster: an insatiably hungry, amoeba-like mass able to penetrate\n",
        "virtually any safeguard, capable of--as a doomed doctor chillingly\n",
        "describes it--\"assimilating flesh on contact.\n",
        "Snide comparisons to gelatin be damned, it's a concept with the most\n",
        "devastating of potential consequences, not unlike the grey goo scenario\n",
        "proposed by technological theorists fearful of\n",
        "artificial intelligence run rampant.\n",
        "\"\"\"\n",
        "\n",
        "blob = TextBlob(text)\n",
        "print(blob.tags)\n",
        "print(blob.noun_phrases)\n",
        "\n",
        "for sentence in blob.sentences:\n",
        "    print(sentence.sentiment.polarity)\n",
        "\n",
        "b = TextBlob(\"I havv goood speling!\")\n",
        "print(b.correct())\n",
        "\n",
        "# corpus word # havv # [have=0.91, having=0.82, heaven=0.5, heavy=0.3]"
      ]
    },
    {
      "cell_type": "code",
      "execution_count": null,
      "metadata": {
        "id": "AIjv_COWWObo"
      },
      "outputs": [],
      "source": [
        "# crear una función llamada fix_sentence donde yo le pase una oración y me devuelva la oración corregida\n",
        "# opcional: además devuelva las palabras que cambiaron\n",
        "# opcional: devuelva las top 5 palabras que mas se repiten\n",
        "\n",
        "def fix_sentence(sentence):\n",
        "    return \"\", [], []\n",
        "\n",
        "fix_sentence(\"\"\"The titular threat of The Blob has always struck me as the ultimate movie\n",
        "monster: an insatiably hungry, amoeba-like mass able to penetrate\n",
        "virtually any safeguard, capable of--as a doomed doctor chillingly\n",
        "describes it--\"assimilating flesh on contact.\"\"\")"
      ]
    },
    {
      "cell_type": "code",
      "execution_count": 6,
      "metadata": {},
      "outputs": [
        {
          "data": {
            "text/plain": [
              "(TextBlob(\"The tubular threat of The Low has always struck me as the ultimate movie\n",
              " monster: an invariably hungry, amoeba-like mass able to penetrate\n",
              " virtually any safeguard, capable of--as a doomed doctor willingly\n",
              " describes it--\"assimilating flesh on contact.\"),\n",
              " ['titular', 'Blob', 'insatiably', 'chillingly'],\n",
              " ['tubular', 'threat', 'Low', 'has', 'always'])"
            ]
          },
          "execution_count": 6,
          "metadata": {},
          "output_type": "execute_result"
        }
      ],
      "source": [
        "def fix_sentence(sentence):\n",
        "    blob = TextBlob(sentence)\n",
        "    blobCorrected = blob.correct()\n",
        "    palabras_cambiadas = [i for i in blob.words if i not in blobCorrected.words]\n",
        "    counter_list = []\n",
        "    for i in blobCorrected.words:\n",
        "      counter = (blobCorrected.words).count(i)\n",
        "      counter_list.append(counter)\n",
        "    indices_mayores = sorted(range(len(counter_list)), key = lambda i: counter_list[i])[:5]\n",
        "    valores_mayores = [blobCorrected.words[i] for i in indices_mayores]\n",
        " \n",
        "    return blobCorrected, palabras_cambiadas, valores_mayores\n",
        " \n",
        " \n",
        " \n",
        " \n",
        "fix_sentence(\"\"\"The titular threat of The Blob has always struck me as the ultimate movie\n",
        "monster: an insatiably hungry, amoeba-like mass able to penetrate\n",
        "virtually any safeguard, capable of--as a doomed doctor chillingly\n",
        "describes it--\"assimilating flesh on contact.\"\"\")"
      ]
    }
  ],
  "metadata": {
    "colab": {
      "provenance": []
    },
    "kernelspec": {
      "display_name": "Python 3",
      "name": "python3"
    },
    "language_info": {
      "codemirror_mode": {
        "name": "ipython",
        "version": 3
      },
      "file_extension": ".py",
      "mimetype": "text/x-python",
      "name": "python",
      "nbconvert_exporter": "python",
      "pygments_lexer": "ipython3",
      "version": "3.10.0"
    }
  },
  "nbformat": 4,
  "nbformat_minor": 0
}
